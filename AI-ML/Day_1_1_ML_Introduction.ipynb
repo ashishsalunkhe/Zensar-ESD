{
 "cells": [
  {
   "cell_type": "markdown",
   "metadata": {},
   "source": [
    "# Introduction"
   ]
  },
  {
   "cell_type": "markdown",
   "metadata": {},
   "source": [
    "## What is Machine Learning?"
   ]
  },
  {
   "cell_type": "raw",
   "metadata": {},
   "source": [
    "->It is a subfield of Artificial Intelligence\n",
    "->It is a field of study that gives the ability to the computer for self-learn without being explicitly programmed\n",
    "->Fundamentally, machine learning involves building mathematical models to help understand data\n",
    "->It is some kind of magic pill:\"apply machine learning to your data, and all your problems will be solved\"\n"
   ]
  },
  {
   "cell_type": "raw",
   "metadata": {},
   "source": [
    "->Machine Learning is an application of Artificial Intelligence\n",
    "->It allows software applications to become accurate in predicting outcomes\n",
    "->Google says \"Machine Learning is the future,\" and the future of Machine Learning is going to be very bright"
   ]
  },
  {
   "cell_type": "markdown",
   "metadata": {},
   "source": [
    "## Installing Python and Anaconda"
   ]
  },
  {
   "cell_type": "raw",
   "metadata": {},
   "source": [
    "-->Download the Anaconda installer from 'https://www.anaconda.com/distribution/#windows'\n",
    "-->Double click the installer to launch\n",
    "-->Click Next\n",
    "-->Read the licensing terms and click “I Agree”\n",
    "-->Select an install for “Just Me” unless you’re installing for all users (which requires Windows Administrator      privileges) and click Next\n",
    "-->Select a destination folder to install Anaconda and click the Next button\n",
    "-->Choose whether to add Anaconda to your PATH environment variable. We recommend not adding Anaconda to the PATH    environment variable, since this can interfere with other software. Instead, use Anaconda software by opening      Anaconda Navigator or the Anaconda Prompt from the Start Menu\n",
    "-->Choose whether to register Anaconda as your default Python. Unless you plan on installing and running multiple    versions of Anaconda, or multiple versions of Python, accept the default and leave this box checked.\n",
    "-->Click the Install button. If you want to watch the packages Anaconda is installing, click Show Details.\n",
    "-->Click the Next button\n",
    "-->After a successful installation you will see the “Thanks for installing Anaconda” dialog box\n",
    "-->If you wish to read more about Anaconda Cloud and how to get started with Anaconda, check the boxes “Learn more    about Anaconda Cloud” and “Learn how to get started with Anaconda”. Click the Finish button\n",
    "-->After your install is complete, verify it by opening Anaconda Navigator, a program that is included with          Anaconda: from your Windows Start menu, select the shortcut Anaconda Navigator. If Navigator opens, you have      successfully installed Anaconda. If not, check that you completed each step above\n"
   ]
  },
  {
   "cell_type": "code",
   "execution_count": null,
   "metadata": {
    "collapsed": true
   },
   "outputs": [],
   "source": []
  }
 ],
 "metadata": {
  "kernelspec": {
   "display_name": "Python 3",
   "language": "python",
   "name": "python3"
  },
  "language_info": {
   "codemirror_mode": {
    "name": "ipython",
    "version": 3
   },
   "file_extension": ".py",
   "mimetype": "text/x-python",
   "name": "python",
   "nbconvert_exporter": "python",
   "pygments_lexer": "ipython3",
   "version": "3.6.1"
  }
 },
 "nbformat": 4,
 "nbformat_minor": 2
}
